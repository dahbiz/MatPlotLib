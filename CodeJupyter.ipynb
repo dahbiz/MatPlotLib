{
 "cells": [
  {
   "cell_type": "code",
   "execution_count": 13,
   "metadata": {},
   "outputs": [
    {
     "data": {
      "image/png": "[encoded data removed]",
      "text/plain": [
       "<Figure size 432x288 with 1 Axes>"
      ]
     },
     "metadata": {
      "needs_background": "light"
     },
     "output_type": "display_data"
    }
   ],
   "source": [
    "####################################################################\n",
    "#      This is a simple code that allows plotting functions        #\n",
    "#            with a single variable uing matplotlib and using      #\n",
    "#           latex syntax for writting math equations.              #\n",
    "#             All credits goes to Zakaria Dahbi                    #\n",
    "#                     etriziko@gmail.com                           #\n",
    "####################################################################\n",
    "\n",
    "\n",
    "####################################################################\n",
    "#                 Calling needed modules                           #\n",
    "####################################################################\n",
    "#matplotlib inline\n",
    "from sympy import *\n",
    "from matplotlib import rc\n",
    "from pylab import figure, axes, plot, xlabel, ylabel, title, grid, savefig, show\n",
    "rc('text', usetex=True)\n",
    "import matplotlib.pyplot as plt\n",
    "import numpy as np\n",
    "import math\n",
    "import seaborn\n",
    "####################################################################\n",
    "#                Define your function intervalle                   #\n",
    "####################################################################\n",
    "# 100 linearly spaced numbers\n",
    "x = np.linspace(0,20,2)\n",
    "####################################################################\n",
    "#      Define your function here(Example: x+1)                     #\n",
    "####################################################################\n",
    "def y(x):\n",
    "    z = x+1\n",
    "    return abs(z)\n",
    "####################################################################\n",
    "#               Plotting and labeling                              #\n",
    "####################################################################\n",
    "fig = plt.figure()\n",
    "plt.plot(x,y(x))\n",
    "#labeling the axis\n",
    "plt.text(15,9,r\"$f(x)=x+1$\",fontsize=14)\n",
    "plt.xlabel('$x$',fontsize=14)\n",
    "plt.ylabel('$f(x)$',fontsize=14)\n",
    "plt.title('Title $f(x)$')\n",
    "#to save the plot in pdf and png\n",
    "plt.savefig('fig.png')\n",
    "plt.savefig('fig.pdf')\n",
    "# show the plot\n",
    "plt.show()\n",
    "####################################################################\n",
    "#      You can play with this code to make it suits your need      #\n",
    "#                            :) :)                                 #\n",
    "#             All credits goes to Zakaria Dahbi                    #\n",
    "#                     etriziko@gmail.com                           #\n",
    "####################################################################"
   ]
  },
  {
   "cell_type": "code",
   "execution_count": null,
   "metadata": {},
   "outputs": [],
   "source": []
  }
 ],
 "metadata": {
  "kernelspec": {
   "display_name": "Python 3",
   "language": "python",
   "name": "python3"
  },
  "language_info": {
   "codemirror_mode": {
    "name": "ipython",
    "version": 3
   },
   "file_extension": ".py",
   "mimetype": "text/x-python",
   "name": "python",
   "nbconvert_exporter": "python",
   "pygments_lexer": "ipython3",
   "version": "3.7.4"
  }
 },
 "nbformat": 4,
 "nbformat_minor": 4
}
